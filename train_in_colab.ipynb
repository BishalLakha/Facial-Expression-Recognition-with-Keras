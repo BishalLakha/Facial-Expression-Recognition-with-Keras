{
 "cells": [
  {
   "cell_type": "markdown",
   "metadata": {},
   "source": [
    "# Facial Expression Recognition"
   ]
  },
  {
   "cell_type": "markdown",
   "metadata": {},
   "source": [
    "This notebook can be used to train face recognition model in google colab using gpu backend. "
   ]
  },
  {
   "cell_type": "markdown",
   "metadata": {
    "colab_type": "text",
    "id": "-aLSNBGPMviS"
   },
   "source": [
    "## Check Resources\n"
   ]
  },
  {
   "cell_type": "markdown",
   "metadata": {
    "colab_type": "text",
    "id": "LdY7hAGHNFri"
   },
   "source": [
    "#### 1.Install required packages"
   ]
  },
  {
   "cell_type": "code",
   "execution_count": 1,
   "metadata": {
    "colab": {
     "autoexec": {
      "startup": false,
      "wait_interval": 0
     },
     "base_uri": "https://localhost:8080/",
     "height": 343
    },
    "colab_type": "code",
    "executionInfo": {
     "elapsed": 10782,
     "status": "ok",
     "timestamp": 1528000009979,
     "user": {
      "displayName": "Bishal Lakha",
      "photoUrl": "//lh5.googleusercontent.com/-C9dp_yPSWUw/AAAAAAAAAAI/AAAAAAAAACA/kypmLRegWwM/s50-c-k-no/photo.jpg",
      "userId": "115420338876073945152"
     },
     "user_tz": -345
    },
    "id": "0eEco2nlMuHB",
    "outputId": "1b60bee4-f2aa-41bb-f09b-54101c7c0a6d"
   },
   "outputs": [
    {
     "name": "stdout",
     "output_type": "stream",
     "text": [
      "Collecting gputil\n",
      "  Downloading https://files.pythonhosted.org/packages/45/99/837428d26b47ebd6b66d6e1b180e98ec4a557767a93a81a02ea9d6242611/GPUtil-1.3.0.tar.gz\n",
      "Requirement already satisfied: numpy in /usr/local/lib/python3.6/dist-packages (from gputil) (1.14.3)\n",
      "Building wheels for collected packages: gputil\n",
      "  Running setup.py bdist_wheel for gputil ... \u001b[?25l-\b \bdone\n",
      "\u001b[?25h  Stored in directory: /content/.cache/pip/wheels/17/0f/04/b79c006972335e35472c0b835ed52bfc0815258d409f560108\n",
      "Successfully built gputil\n",
      "Installing collected packages: gputil\n",
      "Successfully installed gputil-1.3.0\n",
      "Requirement already satisfied: psutil in /usr/local/lib/python3.6/dist-packages (5.4.5)\n",
      "Collecting humanize\n",
      "  Downloading https://files.pythonhosted.org/packages/8c/e0/e512e4ac6d091fc990bbe13f9e0378f34cf6eecd1c6c268c9e598dcf5bb9/humanize-0.5.1.tar.gz\n",
      "Building wheels for collected packages: humanize\n",
      "  Running setup.py bdist_wheel for humanize ... \u001b[?25l-\b \bdone\n",
      "\u001b[?25h  Stored in directory: /content/.cache/pip/wheels/69/86/6c/f8b8593bc273ec4b0c653d3827f7482bb2001a2781a73b7f44\n",
      "Successfully built humanize\n",
      "Installing collected packages: humanize\n",
      "Successfully installed humanize-0.5.1\n"
     ]
    }
   ],
   "source": [
    "# memory footprint support libraries/code\n",
    "!ln -sf /opt/bin/nvidia-smi /usr/bin/nvidia-smi\n",
    "!pip install gputil\n",
    "!pip install psutil\n",
    "!pip install humanize\n"
   ]
  },
  {
   "cell_type": "markdown",
   "metadata": {
    "colab_type": "text",
    "id": "C16lMBsWNNuq"
   },
   "source": [
    "####2.Check available GPU and CPU"
   ]
  },
  {
   "cell_type": "code",
   "execution_count": 2,
   "metadata": {
    "colab": {
     "autoexec": {
      "startup": false,
      "wait_interval": 0
     },
     "base_uri": "https://localhost:8080/",
     "height": 51
    },
    "colab_type": "code",
    "executionInfo": {
     "elapsed": 863,
     "status": "ok",
     "timestamp": 1528000015241,
     "user": {
      "displayName": "Bishal Lakha",
      "photoUrl": "//lh5.googleusercontent.com/-C9dp_yPSWUw/AAAAAAAAAAI/AAAAAAAAACA/kypmLRegWwM/s50-c-k-no/photo.jpg",
      "userId": "115420338876073945152"
     },
     "user_tz": -345
    },
    "id": "vMQrElWlM_x-",
    "outputId": "5efa4bd3-9fbb-4c54-b350-5b25d7d8abb7"
   },
   "outputs": [
    {
     "name": "stdout",
     "output_type": "stream",
     "text": [
      "Gen RAM Free: 12.7 GB  I Proc size: 146.6 MB\n",
      "GPU RAM Free: 11439MB | Used: 0MB | Util   0% | Total 11439MB\n"
     ]
    }
   ],
   "source": [
    "import psutil\n",
    "import humanize\n",
    "import os\n",
    "import GPUtil as GPU\n",
    "GPUs = GPU.getGPUs()\n",
    "# XXX: only one GPU on Colab and isn’t guaranteed\n",
    "gpu = GPUs[0]\n",
    "def printm():\n",
    " process = psutil.Process(os.getpid())\n",
    " print(\"Gen RAM Free: \" + humanize.naturalsize( psutil.virtual_memory().available ), \" I Proc size: \" + humanize.naturalsize( process.memory_info().rss))\n",
    " print(\"GPU RAM Free: {0:.0f}MB | Used: {1:.0f}MB | Util {2:3.0f}% | Total {3:.0f}MB\".format(gpu.memoryFree, gpu.memoryUsed, gpu.memoryUtil*100, gpu.memoryTotal))\n",
    "printm()"
   ]
  },
  {
   "cell_type": "markdown",
   "metadata": {
    "colab_type": "text",
    "id": "DObB9v0C_TNN"
   },
   "source": [
    "## Getting data from google drive\n"
   ]
  },
  {
   "cell_type": "markdown",
   "metadata": {},
   "source": [
    "We can store our data in google drive and use it in our colab notebook"
   ]
  },
  {
   "cell_type": "markdown",
   "metadata": {
    "colab_type": "text",
    "id": "7OVjadBXNd9A"
   },
   "source": [
    "#### 1. Authenticate"
   ]
  },
  {
   "cell_type": "code",
   "execution_count": 0,
   "metadata": {
    "colab": {
     "autoexec": {
      "startup": false,
      "wait_interval": 0
     }
    },
    "colab_type": "code",
    "id": "g7tD7o019kA0"
   },
   "outputs": [],
   "source": [
    "!pip install -U -q PyDrive\n",
    "from pydrive.auth import GoogleAuth\n",
    "from pydrive.drive import GoogleDrive\n",
    "from google.colab import auth\n",
    "from oauth2client.client import GoogleCredentials\n",
    "\n",
    "auth.authenticate_user()\n",
    "gauth = GoogleAuth()\n",
    "gauth.credentials = GoogleCredentials.get_application_default()\n",
    "drive = GoogleDrive(gauth)"
   ]
  },
  {
   "cell_type": "markdown",
   "metadata": {
    "colab_type": "text",
    "id": "2h-FJ9f_N0P_"
   },
   "source": [
    "#### 2.Functions to load data from google drive"
   ]
  },
  {
   "cell_type": "code",
   "execution_count": 0,
   "metadata": {
    "colab": {
     "autoexec": {
      "startup": false,
      "wait_interval": 0
     }
    },
    "colab_type": "code",
    "id": "SmmHj70j9san"
   },
   "outputs": [],
   "source": [
    "def get_file_from_drive(folder_id, file_name):\n",
    "  file_list = drive.ListFile({'q': \"'\" + folder_id + \"' in parents and trashed=false\"}).GetList()\n",
    "  for file in file_list:\n",
    "    if file['title'] == file_name:\n",
    "      return file['id']\n",
    "\n",
    "def upload_file_to_drive(file_name, file_data):\n",
    "  uploaded = drive.CreateFile({'title': file_name})\n",
    "  uploaded.SetContentString(file_data)\n",
    "  uploaded.Upload()\n",
    "  print('Uploaded file with ID {}'.format(uploaded.get('id')))\n",
    "\n"
   ]
  },
  {
   "cell_type": "markdown",
   "metadata": {
    "colab_type": "text",
    "id": "M9OR_mYaO3VD"
   },
   "source": [
    "## Data processing"
   ]
  },
  {
   "cell_type": "markdown",
   "metadata": {
    "colab_type": "text",
    "id": "dxlIW2p4OO6y"
   },
   "source": [
    "#### 1.Loading required data from drive"
   ]
  },
  {
   "cell_type": "code",
   "execution_count": 5,
   "metadata": {
    "colab": {
     "autoexec": {
      "startup": false,
      "wait_interval": 0
     },
     "base_uri": "https://localhost:8080/",
     "height": 34
    },
    "colab_type": "code",
    "executionInfo": {
     "elapsed": 7153,
     "status": "ok",
     "timestamp": 1528000075887,
     "user": {
      "displayName": "Bishal Lakha",
      "photoUrl": "//lh5.googleusercontent.com/-C9dp_yPSWUw/AAAAAAAAAAI/AAAAAAAAACA/kypmLRegWwM/s50-c-k-no/photo.jpg",
      "userId": "115420338876073945152"
     },
     "user_tz": -345
    },
    "id": "dTAZ8LQzONG_",
    "outputId": "53fa4341-52d3-47f6-ffef-1b60137d6113"
   },
   "outputs": [
    {
     "name": "stdout",
     "output_type": "stream",
     "text": [
      "Data uploaded\n"
     ]
    }
   ],
   "source": [
    "#The folder id is the last part of the link of a folder\n",
    "#Eg: https://drive.google.com/drive/folders/1K01twCLvCo40aOc6bBW4TlJZEzvPHSv3\n",
    "#1K01twCLvCo40aOc6bBW4TlJZEzvPHSv3 is a folder id\n",
    "try:\n",
    "  data_drive_folder_id = '1JTnfzaSEEopJIGJ8Dgj_fXpOdSjVqUSH'\n",
    "  train_file = 'Train.csv' \n",
    "  test_file = 'Test_data.csv'\n",
    "  def upload_data_system():\n",
    "    downloaded = drive.CreateFile({'id': get_file_from_drive(data_drive_folder_id, train_file)})\n",
    "    downloaded.GetContentFile(train_file) \n",
    "    \n",
    "    downloaded = drive.CreateFile({'id': get_file_from_drive(data_drive_folder_id, test_file)})\n",
    "    downloaded.GetContentFile(test_file) \n",
    "\n",
    "  upload_data_system()\n",
    "  print(\"Data uploaded\")\n",
    "except Exception as error:\n",
    "  print(\"Can not upload given data.\")\n",
    "  print(error)"
   ]
  },
  {
   "cell_type": "markdown",
   "metadata": {
    "colab_type": "text",
    "id": "3qovervHQCCc"
   },
   "source": [
    "#### 2.Preparing training,development and test set"
   ]
  },
  {
   "cell_type": "code",
   "execution_count": 6,
   "metadata": {
    "colab": {
     "autoexec": {
      "startup": false,
      "wait_interval": 0
     },
     "base_uri": "https://localhost:8080/",
     "height": 34
    },
    "colab_type": "code",
    "executionInfo": {
     "elapsed": 18915,
     "status": "ok",
     "timestamp": 1528000099213,
     "user": {
      "displayName": "Bishal Lakha",
      "photoUrl": "//lh5.googleusercontent.com/-C9dp_yPSWUw/AAAAAAAAAAI/AAAAAAAAACA/kypmLRegWwM/s50-c-k-no/photo.jpg",
      "userId": "115420338876073945152"
     },
     "user_tz": -345
    },
    "id": "GU3IBKCi93ov",
    "outputId": "88587140-e050-4f19-c1b6-db9144e64bf6"
   },
   "outputs": [
    {
     "name": "stderr",
     "output_type": "stream",
     "text": [
      "Using TensorFlow backend.\n"
     ]
    }
   ],
   "source": [
    "import numpy as np\n",
    "from keras.utils import np_utils\n",
    "import pandas as pd\n",
    "\n",
    "def process(data):\n",
    "  #Seperating images data from labels ie emotion\n",
    "  images = data.iloc[:,1:].values\n",
    "  images = images.astype(np.float)\n",
    "\n",
    "  #Normalizaton : convert from [0:255] => [0.0:1.0]\n",
    "  images = np.multiply(images, 1.0 / 255.0)\n",
    "  \n",
    "  #Reshape pixels to 48*48 image\n",
    "  images = np.reshape(images, [-1,48,48,1])\n",
    "  \n",
    "  print(images.shape)\n",
    "  \n",
    "  #Get labels from data\n",
    "  labels = data[['label']].values.ravel()\n",
    "  labels_count = np.unique(labels).shape[0]\n",
    "  \n",
    "  #Convert labels to one hot vectors\n",
    "  labels = np_utils.to_categorical(labels,labels_count)\n",
    "  \n",
    "  return images,labels\n",
    "  \n",
    "#Read data\n",
    "train = pd.read_csv('Train.csv')\n",
    "\n"
   ]
  },
  {
   "cell_type": "code",
   "execution_count": 7,
   "metadata": {
    "colab": {
     "autoexec": {
      "startup": false,
      "wait_interval": 0
     },
     "base_uri": "https://localhost:8080/",
     "height": 375
    },
    "colab_type": "code",
    "executionInfo": {
     "elapsed": 876,
     "status": "ok",
     "timestamp": 1528000103089,
     "user": {
      "displayName": "Bishal Lakha",
      "photoUrl": "//lh5.googleusercontent.com/-C9dp_yPSWUw/AAAAAAAAAAI/AAAAAAAAACA/kypmLRegWwM/s50-c-k-no/photo.jpg",
      "userId": "115420338876073945152"
     },
     "user_tz": -345
    },
    "id": "LiMAoFTCtVB0",
    "outputId": "74dc82c9-b263-4e5e-c55b-f8ff8d8045c8"
   },
   "outputs": [
    {
     "data": {
      "text/plain": [
       "Text(0.5,1,'Distribution of emotions,(0=Angry, 1=Disgust, 2=Fear, 3=Happy, 4=Sad, 5=Surprise, 6=Neutral)')"
      ]
     },
     "execution_count": 7,
     "metadata": {
      "tags": []
     },
     "output_type": "execute_result"
    },
    {
     "data": {
      "image/png": "[encoded data removed]",
      "text/plain": [
       "<matplotlib.figure.Figure at 0x7f0c44ff2208>"
      ]
     },
     "metadata": {
      "tags": []
     },
     "output_type": "display_data"
    }
   ],
   "source": [
    "#Displaying total counts of different labels\n",
    "import matplotlib.pyplot as plt\n",
    "train.label.value_counts().plot(kind='bar')\n",
    "plt.title(\"Distribution of emotions,(0=Angry, 1=Disgust, 2=Fear, 3=Happy, 4=Sad, 5=Surprised, 6=Neutral)\")"
   ]
  },
  {
   "cell_type": "markdown",
   "metadata": {},
   "source": [
    "There are very few samples of 'Disgust' so we will mearge it with 'Angry' "
   ]
  },
  {
   "cell_type": "code",
   "execution_count": 8,
   "metadata": {
    "colab": {
     "autoexec": {
      "startup": false,
      "wait_interval": 0
     },
     "base_uri": "https://localhost:8080/",
     "height": 375
    },
    "colab_type": "code",
    "executionInfo": {
     "elapsed": 1004,
     "status": "ok",
     "timestamp": 1528000107001,
     "user": {
      "displayName": "Bishal Lakha",
      "photoUrl": "//lh5.googleusercontent.com/-C9dp_yPSWUw/AAAAAAAAAAI/AAAAAAAAACA/kypmLRegWwM/s50-c-k-no/photo.jpg",
      "userId": "115420338876073945152"
     },
     "user_tz": -345
    },
    "id": "XIHxSDURyib7",
    "outputId": "8d61b161-9237-4dfe-a750-f028e3b487f6"
   },
   "outputs": [
    {
     "data": {
      "text/plain": [
       "Text(0.5,1,'Distribution of emotions,(0=Angry,1=Fear, 2=Happy, 3 = Sad, 4=Surprise, 5=Neutral)')"
      ]
     },
     "execution_count": 8,
     "metadata": {
      "tags": []
     },
     "output_type": "execute_result"
    },
    {
     "data": {
      "image/png": "[encoded data removed]",
      "text/plain": [
       "<matplotlib.figure.Figure at 0x7f0c67479128>"
      ]
     },
     "metadata": {
      "tags": []
     },
     "output_type": "display_data"
    }
   ],
   "source": [
    "train['label'] = train['label'].map( {0:0, 1:0, 2:1, 3:2, 4:3, 5:4, 6:5} ).astype(int)\n",
    "train.label.value_counts().plot(kind='bar')\n",
    "plt.title(\"Distribution of emotions,(0=Angry,1=Fear, 2=Happy, 3 = Sad, 4=Surprised, 5=Neutral)\")\n"
   ]
  },
  {
   "cell_type": "markdown",
   "metadata": {},
   "source": [
    "#### Balancing classes"
   ]
  },
  {
   "cell_type": "code",
   "execution_count": 9,
   "metadata": {
    "colab": {
     "autoexec": {
      "startup": false,
      "wait_interval": 0
     },
     "base_uri": "https://localhost:8080/",
     "height": 375
    },
    "colab_type": "code",
    "executionInfo": {
     "elapsed": 2981,
     "status": "ok",
     "timestamp": 1528000111736,
     "user": {
      "displayName": "Bishal Lakha",
      "photoUrl": "//lh5.googleusercontent.com/-C9dp_yPSWUw/AAAAAAAAAAI/AAAAAAAAACA/kypmLRegWwM/s50-c-k-no/photo.jpg",
      "userId": "115420338876073945152"
     },
     "user_tz": -345
    },
    "id": "CNXR6qErD_ds",
    "outputId": "7c8c3f32-073a-4cb3-e112-619d287f45d6"
   },
   "outputs": [
    {
     "data": {
      "text/plain": [
       "Text(0.5,1,'Distribution of emotions,(0=Angry,1=Fear, 2=Happy, 3 = Sad, 4=Surprise, 5=Neutral)')"
      ]
     },
     "execution_count": 9,
     "metadata": {
      "tags": []
     },
     "output_type": "execute_result"
    },
    {
     "data": {
      "image/png": "[encoded data removed]",
      "text/plain": [
       "<matplotlib.figure.Figure at 0x7f0c06f16b00>"
      ]
     },
     "metadata": {
      "tags": []
     },
     "output_type": "display_data"
    }
   ],
   "source": [
    "\"Making copies of images to balance the class which prevents overfitting\"\n",
    "from sklearn.utils import shuffle\n",
    "\n",
    "#As there are higher number of 'Happy' images, making copies of other images\n",
    "df_copy = train[train.label != 2]\n",
    "df_copy = df_copy[:int(0.6*len(df_copy.index))]\n",
    "len(df_copy.index)\n",
    "train_balanced = shuffle(pd.concat([train,df_copy]))\n",
    "\n",
    "train_balanced.label.value_counts().plot(kind='bar')\n",
    "plt.title(\"Distribution of emotions,(0=Angry,1=Fear, 2=Happy, 3 = Sad, 4=Surprise, 5=Neutral)\")\n"
   ]
  },
  {
   "cell_type": "code",
   "execution_count": 0,
   "metadata": {
    "colab": {
     "autoexec": {
      "startup": false,
      "wait_interval": 0
     }
    },
    "colab_type": "code",
    "id": "aUYMuRmWD1GD"
   },
   "outputs": [],
   "source": [
    "#Preparing test data\n",
    "test = pd.read_csv('Test_data.csv')\n",
    "test['label'] = test['label'].map( {0:0, 1:0, 2:1, 3:2, 4:3, 5:4, 6:5} ).astype(int)\n"
   ]
  },
  {
   "cell_type": "markdown",
   "metadata": {
    "colab": {
     "autoexec": {
      "startup": false,
      "wait_interval": 0
     }
    },
    "colab_type": "code",
    "id": "ZrfsGZAyD94c"
   },
   "source": [
    "#### Process data"
   ]
  },
  {
   "cell_type": "code",
   "execution_count": 11,
   "metadata": {
    "colab": {
     "autoexec": {
      "startup": false,
      "wait_interval": 0
     },
     "base_uri": "https://localhost:8080/",
     "height": 51
    },
    "colab_type": "code",
    "executionInfo": {
     "elapsed": 1739,
     "status": "ok",
     "timestamp": 1528000122202,
     "user": {
      "displayName": "Bishal Lakha",
      "photoUrl": "//lh5.googleusercontent.com/-C9dp_yPSWUw/AAAAAAAAAAI/AAAAAAAAACA/kypmLRegWwM/s50-c-k-no/photo.jpg",
      "userId": "115420338876073945152"
     },
     "user_tz": -345
    },
    "id": "tgFHrLTMvump",
    "outputId": "574fae3f-6d12-471f-f977-47f104d0894c"
   },
   "outputs": [
    {
     "name": "stdout",
     "output_type": "stream",
     "text": [
      "(44930, 48, 48, 1)\n",
      "(4886, 48, 48, 1)\n"
     ]
    }
   ],
   "source": [
    "#Process data\n",
    "train_x,train_y = process(train_balanced)\n",
    "test_x,test_y =  process(test)"
   ]
  },
  {
   "cell_type": "markdown",
   "metadata": {
    "colab_type": "text",
    "id": "scxW3FwaQFhK"
   },
   "source": [
    "## VGG architecture for classification"
   ]
  },
  {
   "cell_type": "code",
   "execution_count": 0,
   "metadata": {
    "colab": {
     "autoexec": {
      "startup": false,
      "wait_interval": 0
     }
    },
    "colab_type": "code",
    "id": "1nDkZ78uBIV5"
   },
   "outputs": [],
   "source": [
    "from keras.models import Sequential\n",
    "from keras.optimizers import SGD,Adadelta\n",
    "from keras.layers.core import Flatten, Dense, Dropout\n",
    "from keras.layers.convolutional import Convolution2D, MaxPooling2D, ZeroPadding2D,AveragePooling2D\n",
    "from keras.layers import Input, Dense, Dropout, Activation, Flatten\n",
    "from keras.layers.advanced_activations import PReLU\n",
    "import keras\n",
    "\n",
    "def VGG():\n",
    "    img_rows, img_cols = 48, 48\n",
    "    model = Sequential()\n",
    "    model.add(Convolution2D(64, 5, 5, border_mode='valid',\n",
    "                            input_shape=(img_rows, img_cols, 1)))\n",
    "    model.add(PReLU(init='zero', weights=None))\n",
    "    model.add(ZeroPadding2D(padding=(2, 2), dim_ordering='tf'))\n",
    "    model.add(MaxPooling2D(pool_size=(5, 5), strides=(2, 2)))\n",
    "\n",
    "    model.add(ZeroPadding2D(padding=(1, 1), dim_ordering='tf'))\n",
    "    model.add(Convolution2D(64, 3, 3))\n",
    "    model.add(PReLU(init='zero', weights=None))\n",
    "    model.add(ZeroPadding2D(padding=(1, 1), dim_ordering='tf'))\n",
    "    model.add(Convolution2D(64, 3, 3))\n",
    "    model.add(PReLU(init='zero', weights=None))\n",
    "    model.add(AveragePooling2D(pool_size=(3, 3), strides=(2, 2)))\n",
    "\n",
    "    model.add(ZeroPadding2D(padding=(1, 1), dim_ordering='tf'))\n",
    "    model.add(Convolution2D(128, 3, 3))\n",
    "    model.add(PReLU(init='zero', weights=None))\n",
    "    model.add(ZeroPadding2D(padding=(1, 1), dim_ordering='tf'))\n",
    "    model.add(Convolution2D(128, 3, 3))\n",
    "    model.add(PReLU(init='zero', weights=None))\n",
    "\n",
    "    model.add(ZeroPadding2D(padding=(1, 1), dim_ordering='tf'))\n",
    "    model.add(AveragePooling2D(pool_size=(3, 3), strides=(2, 2)))\n",
    "\n",
    "    model.add(Flatten())\n",
    "    model.add(Dense(1024))\n",
    "    model.add(PReLU(init='zero', weights=None))\n",
    "    model.add(Dropout(0.2))\n",
    "    model.add(Dense(1024))\n",
    "    model.add(PReLU(init='zero', weights=None))\n",
    "    model.add(Dropout(0.2))\n",
    "\n",
    "    model.add(Dense(6))\n",
    "\n",
    "    model.add(Activation('softmax'))\n",
    "\n",
    "    ada = Adadelta(lr=0.1, rho=0.95, epsilon=1e-08)\n",
    "    model.compile(loss='categorical_crossentropy',\n",
    "                  optimizer=ada,\n",
    "                  metrics=['accuracy'])\n",
    "    \n",
    "    return model\n",
    "\n",
    "\n"
   ]
  },
  {
   "cell_type": "markdown",
   "metadata": {
    "colab_type": "text",
    "id": "nPYR3sciQaNm"
   },
   "source": [
    "### Load model"
   ]
  },
  {
   "cell_type": "code",
   "execution_count": 15,
   "metadata": {
    "colab": {
     "autoexec": {
      "startup": false,
      "wait_interval": 0
     },
     "base_uri": "https://localhost:8080/",
     "height": 1431
    },
    "colab_type": "code",
    "executionInfo": {
     "elapsed": 814,
     "status": "ok",
     "timestamp": 1528000150759,
     "user": {
      "displayName": "Bishal Lakha",
      "photoUrl": "//lh5.googleusercontent.com/-C9dp_yPSWUw/AAAAAAAAAAI/AAAAAAAAACA/kypmLRegWwM/s50-c-k-no/photo.jpg",
      "userId": "115420338876073945152"
     },
     "user_tz": -345
    },
    "id": "1ibFUIkwUjmo",
    "outputId": "e2870697-dfbe-4e67-9a5f-46c371c752b3"
   },
   "outputs": [
    {
     "name": "stderr",
     "output_type": "stream",
     "text": [
      "/usr/local/lib/python3.6/dist-packages/ipykernel_launcher.py:73: UserWarning: Update your `Conv2D` call to the Keras 2 API: `Conv2D(64, (5, 5), input_shape=(48, 48, 1..., padding=\"valid\")`\n",
      "/usr/local/lib/python3.6/dist-packages/ipykernel_launcher.py:74: UserWarning: Update your `PReLU` call to the Keras 2 API: `PReLU(weights=None, alpha_initializer=\"zero\")`\n",
      "/usr/local/lib/python3.6/dist-packages/ipykernel_launcher.py:75: UserWarning: Update your `ZeroPadding2D` call to the Keras 2 API: `ZeroPadding2D(padding=(2, 2), data_format=\"channels_last\")`\n",
      "/usr/local/lib/python3.6/dist-packages/ipykernel_launcher.py:78: UserWarning: Update your `ZeroPadding2D` call to the Keras 2 API: `ZeroPadding2D(padding=(1, 1), data_format=\"channels_last\")`\n",
      "/usr/local/lib/python3.6/dist-packages/ipykernel_launcher.py:79: UserWarning: Update your `Conv2D` call to the Keras 2 API: `Conv2D(64, (3, 3))`\n",
      "/usr/local/lib/python3.6/dist-packages/ipykernel_launcher.py:80: UserWarning: Update your `PReLU` call to the Keras 2 API: `PReLU(weights=None, alpha_initializer=\"zero\")`\n",
      "/usr/local/lib/python3.6/dist-packages/ipykernel_launcher.py:81: UserWarning: Update your `ZeroPadding2D` call to the Keras 2 API: `ZeroPadding2D(padding=(1, 1), data_format=\"channels_last\")`\n",
      "/usr/local/lib/python3.6/dist-packages/ipykernel_launcher.py:82: UserWarning: Update your `Conv2D` call to the Keras 2 API: `Conv2D(64, (3, 3))`\n",
      "/usr/local/lib/python3.6/dist-packages/ipykernel_launcher.py:83: UserWarning: Update your `PReLU` call to the Keras 2 API: `PReLU(weights=None, alpha_initializer=\"zero\")`\n",
      "/usr/local/lib/python3.6/dist-packages/ipykernel_launcher.py:86: UserWarning: Update your `ZeroPadding2D` call to the Keras 2 API: `ZeroPadding2D(padding=(1, 1), data_format=\"channels_last\")`\n",
      "/usr/local/lib/python3.6/dist-packages/ipykernel_launcher.py:87: UserWarning: Update your `Conv2D` call to the Keras 2 API: `Conv2D(128, (3, 3))`\n",
      "/usr/local/lib/python3.6/dist-packages/ipykernel_launcher.py:88: UserWarning: Update your `PReLU` call to the Keras 2 API: `PReLU(weights=None, alpha_initializer=\"zero\")`\n",
      "/usr/local/lib/python3.6/dist-packages/ipykernel_launcher.py:89: UserWarning: Update your `ZeroPadding2D` call to the Keras 2 API: `ZeroPadding2D(padding=(1, 1), data_format=\"channels_last\")`\n",
      "/usr/local/lib/python3.6/dist-packages/ipykernel_launcher.py:90: UserWarning: Update your `Conv2D` call to the Keras 2 API: `Conv2D(128, (3, 3))`\n",
      "/usr/local/lib/python3.6/dist-packages/ipykernel_launcher.py:91: UserWarning: Update your `PReLU` call to the Keras 2 API: `PReLU(weights=None, alpha_initializer=\"zero\")`\n",
      "/usr/local/lib/python3.6/dist-packages/ipykernel_launcher.py:93: UserWarning: Update your `ZeroPadding2D` call to the Keras 2 API: `ZeroPadding2D(padding=(1, 1), data_format=\"channels_last\")`\n",
      "/usr/local/lib/python3.6/dist-packages/ipykernel_launcher.py:98: UserWarning: Update your `PReLU` call to the Keras 2 API: `PReLU(weights=None, alpha_initializer=\"zero\")`\n",
      "/usr/local/lib/python3.6/dist-packages/ipykernel_launcher.py:101: UserWarning: Update your `PReLU` call to the Keras 2 API: `PReLU(weights=None, alpha_initializer=\"zero\")`\n"
     ]
    },
    {
     "name": "stdout",
     "output_type": "stream",
     "text": [
      "_________________________________________________________________\n",
      "Layer (type)                 Output Shape              Param #   \n",
      "=================================================================\n",
      "conv2d_1 (Conv2D)            (None, 44, 44, 64)        1664      \n",
      "_________________________________________________________________\n",
      "p_re_lu_1 (PReLU)            (None, 44, 44, 64)        123904    \n",
      "_________________________________________________________________\n",
      "zero_padding2d_1 (ZeroPaddin (None, 48, 48, 64)        0         \n",
      "_________________________________________________________________\n",
      "max_pooling2d_1 (MaxPooling2 (None, 22, 22, 64)        0         \n",
      "_________________________________________________________________\n",
      "zero_padding2d_2 (ZeroPaddin (None, 24, 24, 64)        0         \n",
      "_________________________________________________________________\n",
      "conv2d_2 (Conv2D)            (None, 22, 22, 64)        36928     \n",
      "_________________________________________________________________\n",
      "p_re_lu_2 (PReLU)            (None, 22, 22, 64)        30976     \n",
      "_________________________________________________________________\n",
      "zero_padding2d_3 (ZeroPaddin (None, 24, 24, 64)        0         \n",
      "_________________________________________________________________\n",
      "conv2d_3 (Conv2D)            (None, 22, 22, 64)        36928     \n",
      "_________________________________________________________________\n",
      "p_re_lu_3 (PReLU)            (None, 22, 22, 64)        30976     \n",
      "_________________________________________________________________\n",
      "average_pooling2d_1 (Average (None, 10, 10, 64)        0         \n",
      "_________________________________________________________________\n",
      "zero_padding2d_4 (ZeroPaddin (None, 12, 12, 64)        0         \n",
      "_________________________________________________________________\n",
      "conv2d_4 (Conv2D)            (None, 10, 10, 128)       73856     \n",
      "_________________________________________________________________\n",
      "p_re_lu_4 (PReLU)            (None, 10, 10, 128)       12800     \n",
      "_________________________________________________________________\n",
      "zero_padding2d_5 (ZeroPaddin (None, 12, 12, 128)       0         \n",
      "_________________________________________________________________\n",
      "conv2d_5 (Conv2D)            (None, 10, 10, 128)       147584    \n",
      "_________________________________________________________________\n",
      "p_re_lu_5 (PReLU)            (None, 10, 10, 128)       12800     \n",
      "_________________________________________________________________\n",
      "zero_padding2d_6 (ZeroPaddin (None, 12, 12, 128)       0         \n",
      "_________________________________________________________________\n",
      "average_pooling2d_2 (Average (None, 5, 5, 128)         0         \n",
      "_________________________________________________________________\n",
      "flatten_1 (Flatten)          (None, 3200)              0         \n",
      "_________________________________________________________________\n",
      "dense_1 (Dense)              (None, 1024)              3277824   \n",
      "_________________________________________________________________\n",
      "p_re_lu_6 (PReLU)            (None, 1024)              1024      \n",
      "_________________________________________________________________\n",
      "dropout_1 (Dropout)          (None, 1024)              0         \n",
      "_________________________________________________________________\n",
      "dense_2 (Dense)              (None, 1024)              1049600   \n",
      "_________________________________________________________________\n",
      "p_re_lu_7 (PReLU)            (None, 1024)              1024      \n",
      "_________________________________________________________________\n",
      "dropout_2 (Dropout)          (None, 1024)              0         \n",
      "_________________________________________________________________\n",
      "dense_3 (Dense)              (None, 6)                 6150      \n",
      "_________________________________________________________________\n",
      "activation_1 (Activation)    (None, 6)                 0         \n",
      "=================================================================\n",
      "Total params: 4,844,038\n",
      "Trainable params: 4,844,038\n",
      "Non-trainable params: 0\n",
      "_________________________________________________________________\n",
      "None\n"
     ]
    }
   ],
   "source": [
    "model = VGG()\n",
    "print(model.summary())"
   ]
  },
  {
   "cell_type": "code",
   "execution_count": 0,
   "metadata": {
    "colab": {
     "autoexec": {
      "startup": false,
      "wait_interval": 0
     }
    },
    "colab_type": "code",
    "id": "Y0A323jmRF2O"
   },
   "outputs": [],
   "source": [
    "#Note: Reduce batch size if resources like GPU and RAM are low\n",
    "batch_size = 100\n",
    "epochs = 40"
   ]
  },
  {
   "cell_type": "code",
   "execution_count": 20,
   "metadata": {
    "colab": {
     "autoexec": {
      "startup": false,
      "wait_interval": 0
     },
     "base_uri": "https://localhost:8080/",
     "height": 700
    },
    "colab_type": "code",
    "executionInfo": {
     "elapsed": 22968,
     "status": "ok",
     "timestamp": 1528000186367,
     "user": {
      "displayName": "Bishal Lakha",
      "photoUrl": "//lh5.googleusercontent.com/-C9dp_yPSWUw/AAAAAAAAAAI/AAAAAAAAACA/kypmLRegWwM/s50-c-k-no/photo.jpg",
      "userId": "115420338876073945152"
     },
     "user_tz": -345
    },
    "id": "kLRi8TYMX5UD",
    "outputId": "a7cd31ff-75e4-4d85-a762-56a890a11e4a"
   },
   "outputs": [
    {
     "name": "stdout",
     "output_type": "stream",
     "text": [
      "--2018-06-03 04:29:25--  https://raw.githubusercontent.com/Zahlii/colab-tf-utils/master/utils.py\n",
      "Resolving raw.githubusercontent.com (raw.githubusercontent.com)... 151.101.0.133, 151.101.64.133, 151.101.128.133, ...\n",
      "Connecting to raw.githubusercontent.com (raw.githubusercontent.com)|151.101.0.133|:443... connected.\n",
      "HTTP request sent, awaiting response... 200 OK\n",
      "Length: 6935 (6.8K) [text/plain]\n",
      "Saving to: ‘utils.py’\n",
      "\n",
      "utils.py            100%[===================>]   6.77K  --.-KB/s    in 0s      \n",
      "\n",
      "2018-06-03 04:29:25 (90.7 MB/s) - ‘utils.py’ saved [6935/6935]\n",
      "\n",
      "Collecting tqdm\n",
      "\u001b[?25l  Downloading https://files.pythonhosted.org/packages/93/24/6ab1df969db228aed36a648a8959d1027099ce45fad67532b9673d533318/tqdm-4.23.4-py2.py3-none-any.whl (42kB)\n",
      "\u001b[K    100% |████████████████████████████████| 51kB 2.1MB/s \n",
      "\u001b[?25hInstalling collected packages: tqdm\n",
      "Successfully installed tqdm-4.23.4\n",
      "Requirement already satisfied: keras in /usr/local/lib/python3.6/dist-packages (2.1.6)\n",
      "Requirement already satisfied: numpy>=1.9.1 in /usr/local/lib/python3.6/dist-packages (from keras) (1.14.3)\n",
      "Requirement already satisfied: pyyaml in /usr/local/lib/python3.6/dist-packages (from keras) (3.12)\n",
      "Requirement already satisfied: six>=1.9.0 in /usr/local/lib/python3.6/dist-packages (from keras) (1.11.0)\n",
      "Requirement already satisfied: scipy>=0.14 in /usr/local/lib/python3.6/dist-packages (from keras) (0.19.1)\n",
      "Requirement already satisfied: h5py in /usr/local/lib/python3.6/dist-packages (from keras) (2.7.1)\n",
      "rm: cannot remove 'tboard.py': No such file or directory\n",
      "--2018-06-03 04:29:32--  https://raw.githubusercontent.com/mixuala/colab_utils/master/tboard.py\n",
      "Resolving raw.githubusercontent.com (raw.githubusercontent.com)... 151.101.0.133, 151.101.64.133, 151.101.128.133, ...\n",
      "Connecting to raw.githubusercontent.com (raw.githubusercontent.com)|151.101.0.133|:443... connected.\n",
      "HTTP request sent, awaiting response... 200 OK\n",
      "Length: 5214 (5.1K) [text/plain]\n",
      "Saving to: ‘tboard.py’\n",
      "\n",
      "tboard.py           100%[===================>]   5.09K  --.-KB/s    in 0s      \n",
      "\n",
      "2018-06-03 04:29:32 (37.3 MB/s) - ‘tboard.py’ saved [5214/5214]\n",
      "\n",
      "calling wget https://bin.equinox.io/c/4VmDzA7iaHb/ngrok-stable-linux-amd64.zip ...\n",
      "calling unzip ngrok-stable-linux-amd64.zip ...\n",
      "ngrok installed. path=/content/ngrok\n",
      "status: tensorboard=False, ngrok=False\n",
      "tensorboard url= https://daf08599.ngrok.io\n"
     ]
    }
   ],
   "source": [
    "\"\"\"\n",
    "Setuup for calling Callbacks in Notebook\n",
    "Checkponts are stored in My Drive /Colab Notebooks\n",
    "\"\"\"\n",
    "!wget https://raw.githubusercontent.com/Zahlii/colab-tf-utils/master/utils.py\n",
    "import utils\n",
    "import keras\n",
    "import os\n",
    "def compare(best, new):\n",
    "  return best.losses['val_acc'] < new.losses['val_acc']\n",
    "\n",
    "def path(new):\n",
    "  if new.losses['val_acc'] > 0.2:\n",
    "    return 'emotion_best_weights.h5'\n",
    "\n",
    "callbacks_vgg = cb = [utils.GDriveCheckpointer(compare,path),\n",
    "      keras.callbacks.TensorBoard(log_dir=os.path.join(utils.LOG_DIR,'emotion'))]"
   ]
  },
  {
   "cell_type": "code",
   "execution_count": 25,
   "metadata": {
    "colab": {
     "autoexec": {
      "startup": false,
      "wait_interval": 0
     },
     "base_uri": "https://localhost:8080/",
     "height": 34
    },
    "colab_type": "code",
    "executionInfo": {
     "elapsed": 2014,
     "status": "ok",
     "timestamp": 1528001824708,
     "user": {
      "displayName": "Bishal Lakha",
      "photoUrl": "//lh5.googleusercontent.com/-C9dp_yPSWUw/AAAAAAAAAAI/AAAAAAAAACA/kypmLRegWwM/s50-c-k-no/photo.jpg",
      "userId": "115420338876073945152"
     },
     "user_tz": -345
    },
    "id": "pTOHm7mBSSeX",
    "outputId": "4159bd42-c802-4ef1-acbb-3a8e0d1c6ae7"
   },
   "outputs": [
    {
     "name": "stdout",
     "output_type": "stream",
     "text": [
      "Previous weights used\n"
     ]
    }
   ],
   "source": [
    "#Check if checkpoint is present in Colab Notebooks folder\n",
    "#Upload checkpoint from drive to workspace\n",
    "##The folder id is the last part of the link of a folder\n",
    "\n",
    "ckpt_name = 'emotion_best_weights.h5'\n",
    "checkpoint_folder_id = '1ayo2Cvfk20QgTwn53sWn3QwY-ADGx0LV'\n",
    "\n",
    "try:\n",
    "  def upload_data_system():\n",
    "    downloaded = drive.CreateFile({'id': get_file_from_drive(checkpoint_folder_id,ckpt_name)})\n",
    "    downloaded.GetContentFile(ckpt_name) \n",
    "\n",
    "  upload_data_system()\n",
    "  \n",
    "  model.load_weights(ckpt_name)\n",
    "  print(\"Previous weights used\")\n",
    "except :\n",
    "  print(\"No checkpoints\")"
   ]
  },
  {
   "cell_type": "code",
   "execution_count": 0,
   "metadata": {
    "colab": {
     "autoexec": {
      "startup": false,
      "wait_interval": 0
     }
    },
    "colab_type": "code",
    "id": "1yGtPeiQPHsD"
   },
   "outputs": [],
   "source": [
    "\"\"\"Dividing train data to train and validating set.\n",
    "   Note: Use only while training using data augmentation\"\"\"\n",
    "val_count = 3000 #Validation image number for data augmentation\n",
    "val_x = train_x[:val_count]\n",
    "val_y = train_y[:val_count]\n",
    "train_x = train_x[val_count:]\n",
    "train_y = train_y[val_count:]"
   ]
  },
  {
   "cell_type": "code",
   "execution_count": 24,
   "metadata": {
    "colab": {
     "autoexec": {
      "startup": false,
      "wait_interval": 0
     },
     "base_uri": "https://localhost:8080/",
     "height": 2094
    },
    "colab_type": "code",
    "executionInfo": {
     "elapsed": 1616372,
     "status": "ok",
     "timestamp": 1528001814068,
     "user": {
      "displayName": "Bishal Lakha",
      "photoUrl": "//lh5.googleusercontent.com/-C9dp_yPSWUw/AAAAAAAAAAI/AAAAAAAAACA/kypmLRegWwM/s50-c-k-no/photo.jpg",
      "userId": "115420338876073945152"
     },
     "user_tz": -345
    },
    "id": "AlCOTnL-JTt9",
    "outputId": "d741aaa2-568c-431d-fcd4-b4d5661c9a86"
   },
   "outputs": [
    {
     "name": "stdout",
     "output_type": "stream",
     "text": [
      "Epoch 1/40\n",
      "420/419 [==============================] - 42s 100ms/step - loss: 0.9238 - acc: 0.6496 - val_loss: 0.8733 - val_acc: 0.6800\n"
     ]
    },
    {
     "name": "stderr",
     "output_type": "stream",
     "text": [
      "Uploading file emotion_best_augmented.h5 to folder Colab Notebooks: 100%|██████████| 100/100 [00:01<00:00, 68.36it/s]"
     ]
    },
    {
     "name": "stdout",
     "output_type": "stream",
     "text": [
      "Epoch 2/40\n",
      "\r",
      "  1/419 [..............................] - ETA: 42s - loss: 0.8140 - acc: 0.7300"
     ]
    },
    {
     "name": "stderr",
     "output_type": "stream",
     "text": [
      "\n"
     ]
    },
    {
     "name": "stdout",
     "output_type": "stream",
     "text": [
      "420/419 [==============================] - 40s 96ms/step - loss: 0.9172 - acc: 0.6507 - val_loss: 0.9017 - val_acc: 0.6643\n",
      "No improvement.\n",
      "Epoch 3/40\n",
      "290/419 [===================>..........] - ETA: 11s - loss: 0.9078 - acc: 0.6539420/419 [==============================] - 40s 96ms/step - loss: 0.9153 - acc: 0.6503 - val_loss: 0.8673 - val_acc: 0.6703\n",
      "No improvement.\n",
      "Epoch 4/40\n",
      "390/419 [==========================>...] - ETA: 2s - loss: 0.9127 - acc: 0.6533420/419 [==============================] - 40s 96ms/step - loss: 0.9126 - acc: 0.6535 - val_loss: 0.8827 - val_acc: 0.6667\n",
      "No improvement.\n",
      "Epoch 5/40\n",
      "420/419 [==============================] - 40s 96ms/step - loss: 0.9079 - acc: 0.6569 - val_loss: 0.9097 - val_acc: 0.6617\n",
      "No improvement.\n",
      "Epoch 6/40\n",
      "  2/419 [..............................] - ETA: 39s - loss: 0.9118 - acc: 0.6200420/419 [==============================] - 40s 96ms/step - loss: 0.9077 - acc: 0.6564 - val_loss: 0.9184 - val_acc: 0.6490\n",
      "No improvement.\n",
      "Epoch 7/40\n",
      "289/419 [===================>..........] - ETA: 11s - loss: 0.9071 - acc: 0.6566420/419 [==============================] - 40s 96ms/step - loss: 0.9054 - acc: 0.6571 - val_loss: 0.8841 - val_acc: 0.6717\n",
      "No improvement.\n",
      "Epoch 8/40\n",
      "389/419 [==========================>...] - ETA: 2s - loss: 0.9088 - acc: 0.6575420/419 [==============================] - 40s 95ms/step - loss: 0.9086 - acc: 0.6570 - val_loss: 0.8979 - val_acc: 0.6563\n",
      "No improvement.\n",
      "Epoch 9/40\n",
      "420/419 [==============================] - 40s 96ms/step - loss: 0.9018 - acc: 0.6602 - val_loss: 0.8852 - val_acc: 0.6640\n",
      "No improvement.\n",
      "Epoch 10/40\n",
      "  2/419 [..............................] - ETA: 39s - loss: 0.9368 - acc: 0.6850420/419 [==============================] - 40s 96ms/step - loss: 0.9024 - acc: 0.6580 - val_loss: 0.8800 - val_acc: 0.6647\n",
      "No improvement.\n",
      "Epoch 11/40\n",
      "288/419 [===================>..........] - ETA: 11s - loss: 0.8937 - acc: 0.6608420/419 [==============================] - 40s 96ms/step - loss: 0.8975 - acc: 0.6595 - val_loss: 0.8911 - val_acc: 0.6633\n",
      "No improvement.\n",
      "Epoch 12/40\n",
      "386/419 [==========================>...] - ETA: 3s - loss: 0.9012 - acc: 0.6573420/419 [==============================] - 40s 96ms/step - loss: 0.9002 - acc: 0.6584 - val_loss: 0.8802 - val_acc: 0.6610\n",
      "No improvement.\n",
      "Epoch 13/40\n",
      "420/419 [==============================] - 40s 96ms/step - loss: 0.8966 - acc: 0.6612 - val_loss: 0.8840 - val_acc: 0.6793\n",
      "No improvement.\n",
      "Epoch 14/40\n",
      "  1/419 [..............................] - ETA: 41s - loss: 1.0203 - acc: 0.6000420/419 [==============================] - 40s 95ms/step - loss: 0.8989 - acc: 0.6601 - val_loss: 0.8805 - val_acc: 0.6707\n",
      "No improvement.\n",
      "Epoch 15/40\n",
      "287/419 [===================>..........] - ETA: 12s - loss: 0.8956 - acc: 0.6616420/419 [==============================] - 40s 96ms/step - loss: 0.8951 - acc: 0.6631 - val_loss: 0.8920 - val_acc: 0.6550\n",
      "No improvement.\n",
      "Epoch 16/40\n",
      "387/419 [==========================>...] - ETA: 2s - loss: 0.8927 - acc: 0.6631420/419 [==============================] - 40s 96ms/step - loss: 0.8920 - acc: 0.6636 - val_loss: 0.8842 - val_acc: 0.6647\n",
      "No improvement.\n",
      "Epoch 17/40\n",
      "420/419 [==============================] - 40s 96ms/step - loss: 0.8909 - acc: 0.6638 - val_loss: 0.8965 - val_acc: 0.6680\n",
      "No improvement.\n",
      "Epoch 18/40\n",
      "  1/419 [..............................] - ETA: 38s - loss: 0.8818 - acc: 0.6800420/419 [==============================] - 40s 96ms/step - loss: 0.8850 - acc: 0.6661 - val_loss: 0.8835 - val_acc: 0.6667\n",
      "No improvement.\n",
      "Epoch 19/40\n",
      "289/419 [===================>..........] - ETA: 11s - loss: 0.8897 - acc: 0.6649420/419 [==============================] - 40s 96ms/step - loss: 0.8864 - acc: 0.6663 - val_loss: 0.8676 - val_acc: 0.6673\n",
      "No improvement.\n",
      "Epoch 20/40\n",
      "387/419 [==========================>...] - ETA: 2s - loss: 0.8886 - acc: 0.6656420/419 [==============================] - 40s 96ms/step - loss: 0.8879 - acc: 0.6661 - val_loss: 0.8841 - val_acc: 0.6713\n",
      "No improvement.\n",
      "Epoch 21/40\n",
      "420/419 [==============================] - 40s 96ms/step - loss: 0.8818 - acc: 0.6661 - val_loss: 0.8936 - val_acc: 0.6547\n",
      "No improvement.\n",
      "Epoch 22/40\n",
      "  1/419 [..............................] - ETA: 40s - loss: 0.9736 - acc: 0.6700420/419 [==============================] - 40s 96ms/step - loss: 0.8852 - acc: 0.6683 - val_loss: 0.8745 - val_acc: 0.6800\n",
      "No improvement.\n",
      "Epoch 23/40\n",
      "287/419 [===================>..........] - ETA: 12s - loss: 0.8803 - acc: 0.6688420/419 [==============================] - 40s 96ms/step - loss: 0.8809 - acc: 0.6680 - val_loss: 0.8968 - val_acc: 0.6650\n",
      "No improvement.\n",
      "Epoch 24/40\n",
      "387/419 [==========================>...] - ETA: 2s - loss: 0.8806 - acc: 0.6682420/419 [==============================] - 40s 95ms/step - loss: 0.8791 - acc: 0.6689 - val_loss: 0.9022 - val_acc: 0.6650\n",
      "No improvement.\n",
      "Epoch 25/40\n",
      "420/419 [==============================] - 40s 96ms/step - loss: 0.8803 - acc: 0.6659 - val_loss: 0.8938 - val_acc: 0.6640\n",
      "No improvement.\n",
      "Epoch 26/40\n",
      "  1/419 [..............................] - ETA: 40s - loss: 0.8524 - acc: 0.6700420/419 [==============================] - 40s 96ms/step - loss: 0.8755 - acc: 0.6717 - val_loss: 0.9011 - val_acc: 0.6620\n",
      "No improvement.\n",
      "Epoch 27/40\n",
      "286/419 [===================>..........] - ETA: 12s - loss: 0.8749 - acc: 0.6699420/419 [==============================] - 40s 96ms/step - loss: 0.8730 - acc: 0.6696 - val_loss: 0.8896 - val_acc: 0.6683\n",
      "No improvement.\n",
      "Epoch 28/40\n",
      "386/419 [==========================>...] - ETA: 3s - loss: 0.8755 - acc: 0.6692420/419 [==============================] - 40s 96ms/step - loss: 0.8756 - acc: 0.6687 - val_loss: 0.8785 - val_acc: 0.6800\n",
      "No improvement.\n",
      "Epoch 29/40\n",
      "420/419 [==============================] - 40s 96ms/step - loss: 0.8685 - acc: 0.6712 - val_loss: 0.8815 - val_acc: 0.6677\n",
      "No improvement.\n",
      "Epoch 30/40\n",
      "420/419 [==============================] - 40s 96ms/step - loss: 0.8715 - acc: 0.6701 - val_loss: 0.8871 - val_acc: 0.6673\n",
      "No improvement.\n",
      "Epoch 31/40\n",
      "211/419 [==============>...............] - ETA: 18s - loss: 0.8720 - acc: 0.6709420/419 [==============================] - 40s 95ms/step - loss: 0.8682 - acc: 0.6723 - val_loss: 0.8906 - val_acc: 0.6663\n",
      "No improvement.\n",
      "Epoch 32/40\n",
      "361/419 [========================>.....] - ETA: 5s - loss: 0.8626 - acc: 0.6741420/419 [==============================] - 40s 96ms/step - loss: 0.8642 - acc: 0.6737 - val_loss: 0.8800 - val_acc: 0.6637\n",
      "No improvement.\n",
      "Epoch 33/40\n",
      "412/419 [============================>.] - ETA: 0s - loss: 0.8679 - acc: 0.6728420/419 [==============================] - 40s 96ms/step - loss: 0.8680 - acc: 0.6724 - val_loss: 0.9049 - val_acc: 0.6577\n",
      "No improvement.\n",
      "Epoch 34/40\n",
      "420/419 [==============================] - 40s 96ms/step - loss: 0.8649 - acc: 0.6758 - val_loss: 0.8999 - val_acc: 0.6613\n",
      "No improvement.\n",
      "Epoch 35/40\n",
      "  5/419 [..............................] - ETA: 37s - loss: 0.8192 - acc: 0.6740420/419 [==============================] - 40s 96ms/step - loss: 0.8592 - acc: 0.6764 - val_loss: 0.9123 - val_acc: 0.6600\n",
      "No improvement.\n",
      "Epoch 36/40\n",
      "289/419 [===================>..........] - ETA: 11s - loss: 0.8647 - acc: 0.6744420/419 [==============================] - 40s 96ms/step - loss: 0.8621 - acc: 0.6763 - val_loss: 0.8872 - val_acc: 0.6747\n",
      "No improvement.\n",
      "Epoch 37/40\n",
      "387/419 [==========================>...] - ETA: 2s - loss: 0.8594 - acc: 0.6739420/419 [==============================] - 40s 96ms/step - loss: 0.8584 - acc: 0.6745 - val_loss: 0.8873 - val_acc: 0.6577\n",
      "No improvement.\n",
      "Epoch 38/40\n",
      "420/419 [==============================] - 40s 96ms/step - loss: 0.8574 - acc: 0.6780 - val_loss: 0.8841 - val_acc: 0.6637\n",
      "No improvement.\n",
      "Epoch 39/40\n",
      "420/419 [==============================] - 40s 96ms/step - loss: 0.8552 - acc: 0.6780 - val_loss: 0.8789 - val_acc: 0.6747\n",
      "No improvement.\n",
      "Epoch 40/40\n",
      "211/419 [==============>...............] - ETA: 19s - loss: 0.8622 - acc: 0.6752420/419 [==============================] - 40s 96ms/step - loss: 0.8564 - acc: 0.6776 - val_loss: 0.9039 - val_acc: 0.6617\n",
      "No improvement.\n"
     ]
    },
    {
     "data": {
      "text/plain": [
       "<keras.callbacks.History at 0x7f0bf92f5080>"
      ]
     },
     "execution_count": 24,
     "metadata": {
      "tags": []
     },
     "output_type": "execute_result"
    }
   ],
   "source": [
    "\"Training with augmented data. Augmentation takes place while training\"\n",
    "\n",
    "from keras.preprocessing.image import ImageDataGenerator\n",
    "\n",
    "#Generate augmented data\n",
    "datagen = ImageDataGenerator(\n",
    "    featurewise_center=False,  # set input mean to 0 over the dataset\n",
    "    samplewise_center=False,  # set each sample mean to 0\n",
    "    featurewise_std_normalization=False,  # divide inputs by std of the dataset\n",
    "    samplewise_std_normalization=False,  # divide each input by its std\n",
    "    zca_whitening=False,  # apply ZCA whitening\n",
    "    rotation_range=25,  # randomly rotate images in the range (degrees, 0 to 180)\n",
    "    width_shift_range=0.2,  # randomly shift images horizontally (fraction of total width)\n",
    "    height_shift_range=0.2,  # randomly shift images vertically (fraction of total height)\n",
    "    horizontal_flip=True,  # randomly flip images\n",
    "    vertical_flip=False)  # randomly flip images\n",
    "\n",
    "valgen = ImageDataGenerator(\n",
    "    featurewise_center=False,  # set input mean to 0 over the dataset\n",
    "    samplewise_center=False,  # set each sample mean to 0\n",
    "    featurewise_std_normalization=False,  # divide inputs by std of the dataset\n",
    "    samplewise_std_normalization=False,  # divide each input by its std\n",
    "    zca_whitening=False,  # apply ZCA whitening\n",
    "    rotation_range=25,  # randomly rotate images in the range (degrees, 0 to 180)\n",
    "    width_shift_range=0.2,  # randomly shift images horizontally (fraction of total width)\n",
    "    height_shift_range=0.2,  # randomly shift images vertically (fraction of total height)\n",
    "    horizontal_flip=True,  # randomly flip images\n",
    "    vertical_flip=False) \n",
    "\n",
    "datagen.fit(train_x)\n",
    "valgen.fit(val_x)\n",
    "\n",
    "model.fit_generator(datagen.flow(train_x, train_y,\n",
    "                    batch_size=batch_size),\n",
    "                    steps_per_epoch=len(train_x) /batch_size,\n",
    "                    epochs=epochs,\n",
    "                    validation_data = valgen.flow(val_x, val_y,\n",
    "                    batch_size=batch_size),\n",
    "                    callbacks=callbacks_vgg,verbose = 1)\n",
    "\n",
    "#Note: Given training is done using best checkpoint saved after 200 epochs\n"
   ]
  },
  {
   "cell_type": "code",
   "execution_count": 26,
   "metadata": {
    "colab": {
     "autoexec": {
      "startup": false,
      "wait_interval": 0
     },
     "base_uri": "https://localhost:8080/",
     "height": 51
    },
    "colab_type": "code",
    "executionInfo": {
     "elapsed": 2391,
     "status": "ok",
     "timestamp": 1528001839157,
     "user": {
      "displayName": "Bishal Lakha",
      "photoUrl": "//lh5.googleusercontent.com/-C9dp_yPSWUw/AAAAAAAAAAI/AAAAAAAAACA/kypmLRegWwM/s50-c-k-no/photo.jpg",
      "userId": "115420338876073945152"
     },
     "user_tz": -345
    },
    "id": "UUNWrK8TyB89",
    "outputId": "600d42df-456a-4483-e08d-f21ad969b596"
   },
   "outputs": [
    {
     "name": "stdout",
     "output_type": "stream",
     "text": [
      "4886/4886 [==============================] - 2s 328us/step\n",
      "[0.9564394826436209, 0.6461318021566225]\n"
     ]
    }
   ],
   "source": [
    "\"Check model accuracy in test data\"\n",
    "score = model.evaluate(test_x, test_y, batch_size=100)\n",
    "print(score)\n",
    "\n",
    "#0.9564394826436209 is loss \n",
    "#0.6461318021566225 is acuracy"
   ]
  },
  {
   "cell_type": "code",
   "execution_count": 0,
   "metadata": {
    "colab": {
     "autoexec": {
      "startup": false,
      "wait_interval": 0
     }
    },
    "colab_type": "code",
    "id": "xDckHLpPQizf"
   },
   "outputs": [],
   "source": [
    "#Note: Load saved weights before saving the model\n",
    "#Note: You may encounter problem downloading the model, \n",
    "#so it is better to download the weights from drive and create model offline\n",
    "\n",
    "#Save model\n",
    "model.save('emotion_vgg16.h5')\n",
    "\n",
    "print(\"Model Saved\")\n",
    "#Download model\n",
    "from google.colab import files\n",
    "files.download('emotion_vgg16.h5')"
   ]
  },
  {
   "cell_type": "code",
   "execution_count": 0,
   "metadata": {
    "colab": {
     "autoexec": {
      "startup": false,
      "wait_interval": 0
     }
    },
    "colab_type": "code",
    "id": "k2pd1XOaS0fS"
   },
   "outputs": [],
   "source": []
  }
 ],
 "metadata": {
  "accelerator": "GPU",
  "colab": {
   "collapsed_sections": [],
   "default_view": {},
   "name": "Emotion_recognition.ipynb",
   "provenance": [],
   "version": "0.3.2",
   "views": {}
  },
  "kernelspec": {
   "display_name": "Python 3",
   "language": "python",
   "name": "python3"
  },
  "language_info": {
   "codemirror_mode": {
    "name": "ipython",
    "version": 3
   },
   "file_extension": ".py",
   "mimetype": "text/x-python",
   "name": "python",
   "nbconvert_exporter": "python",
   "pygments_lexer": "ipython3",
   "version": "3.5.2"
  }
 },
 "nbformat": 4,
 "nbformat_minor": 1
}
